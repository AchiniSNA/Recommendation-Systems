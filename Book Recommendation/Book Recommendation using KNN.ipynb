{
 "cells": [
  {
   "cell_type": "code",
   "execution_count": 1,
   "id": "45e82b08",
   "metadata": {},
   "outputs": [
    {
     "name": "stderr",
     "output_type": "stream",
     "text": [
      "b'Skipping line 6452: expected 8 fields, saw 9\\nSkipping line 43667: expected 8 fields, saw 10\\nSkipping line 51751: expected 8 fields, saw 9\\n'\n"
     ]
    }
   ],
   "source": [
    "import pandas as pd\n",
    "import numpy as np\n",
    "import matplotlib.pyplot as plt\n",
    "books = pd.read_csv('BX-Books.csv', sep=';', error_bad_lines=False, encoding=\"latin-1\")\n",
    "books.columns = ['ISBN', 'bookTitle', 'bookAuthor', 'yearOfPublication', 'publisher', 'imageUrlS', 'imageUrlM', 'imageUrlL']\n",
    "users = pd.read_csv('BX-Users.csv', sep=';', error_bad_lines=False, encoding=\"latin-1\")\n",
    "users.columns = ['userID', 'Location', 'Age']\n",
    "ratings = pd.read_csv('BX-Book-Ratings.csv', sep=';', error_bad_lines=False, encoding=\"latin-1\")\n",
    "ratings.columns = ['userID', 'ISBN', 'bookRating']"
   ]
  },
  {
   "cell_type": "code",
   "execution_count": 2,
   "id": "04dc4c06",
   "metadata": {},
   "outputs": [
    {
     "name": "stdout",
     "output_type": "stream",
     "text": [
      "(174003, 3)\n",
      "['userID', 'ISBN', 'bookRating']\n"
     ]
    }
   ],
   "source": [
    "print(ratings.shape)\n",
    "print(list(ratings.columns))"
   ]
  },
  {
   "cell_type": "code",
   "execution_count": 3,
   "id": "363cf528",
   "metadata": {},
   "outputs": [
    {
     "name": "stdout",
     "output_type": "stream",
     "text": [
      "(61053, 8)\n",
      "['ISBN', 'bookTitle', 'bookAuthor', 'yearOfPublication', 'publisher', 'imageUrlS', 'imageUrlM', 'imageUrlL']\n"
     ]
    }
   ],
   "source": [
    "\n",
    "print(books.shape)\n",
    "print(list(books.columns))"
   ]
  },
  {
   "cell_type": "code",
   "execution_count": 4,
   "id": "cb836155",
   "metadata": {},
   "outputs": [
    {
     "name": "stdout",
     "output_type": "stream",
     "text": [
      "(278858, 3)\n",
      "['userID', 'Location', 'Age']\n"
     ]
    }
   ],
   "source": [
    "print(users.shape)\n",
    "print(list(users.columns))"
   ]
  },
  {
   "cell_type": "code",
   "execution_count": 5,
   "id": "133da608",
   "metadata": {},
   "outputs": [
    {
     "data": {
      "image/png": "[encoded data removed]",
      "text/plain": [
       "<Figure size 432x288 with 1 Axes>"
      ]
     },
     "metadata": {
      "needs_background": "light"
     },
     "output_type": "display_data"
    }
   ],
   "source": [
    "plt.rc(\"font\", size=15)\n",
    "ratings.bookRating.value_counts(sort=False).plot(kind='bar')\n",
    "plt.title('Rating Distribution\\n')\n",
    "plt.xlabel('Rating')\n",
    "plt.ylabel('Count')\n",
    "plt.savefig('system1.png', bbox_inches='tight')\n",
    "plt.show()"
   ]
  },
  {
   "cell_type": "code",
   "execution_count": 6,
   "id": "8460138d",
   "metadata": {},
   "outputs": [
    {
     "data": {
      "image/png": "[encoded data removed]",
      "text/plain": [
       "<Figure size 432x288 with 1 Axes>"
      ]
     },
     "metadata": {
      "needs_background": "light"
     },
     "output_type": "display_data"
    }
   ],
   "source": [
    "users.Age.hist(bins=[0, 10, 20, 30, 40, 50, 100])\n",
    "plt.title('Age Distribution\\n')\n",
    "plt.xlabel('Age')\n",
    "plt.ylabel('Count')\n",
    "plt.savefig('system2.png', bbox_inches='tight')\n",
    "plt.show()"
   ]
  },
  {
   "cell_type": "markdown",
   "id": "0a231637",
   "metadata": {},
   "source": [
    "## To ensure statistical significance, users with less than 200 ratings, and books with less than 100 ratings are excluded."
   ]
  },
  {
   "cell_type": "code",
   "execution_count": 7,
   "id": "c8699368",
   "metadata": {},
   "outputs": [],
   "source": [
    "counts1 = ratings['userID'].value_counts()\n",
    "ratings = ratings[ratings['userID'].isin(counts1[counts1 >= 200].index)]\n",
    "counts = ratings['bookRating'].value_counts()\n",
    "ratings = ratings[ratings['bookRating'].isin(counts[counts >= 100].index)]"
   ]
  },
  {
   "cell_type": "markdown",
   "id": "9b90f4c2",
   "metadata": {},
   "source": [
    "## Collaborative Filtering Using k-Nearest Neighbors (kNN)\n"
   ]
  },
  {
   "cell_type": "markdown",
   "id": "24303cab",
   "metadata": {},
   "source": [
    "kNN is a machine learning algorithm to find clusters of similar users based on common book ratings, and make predictions using the average rating of top-k nearest neighbors. For example, we first present ratings in a matrix with the matrix having one row for each item (book) and one column for each user,"
   ]
  },
  {
   "cell_type": "code",
   "execution_count": 8,
   "id": "e428a55c",
   "metadata": {},
   "outputs": [
    {
     "data": {
      "text/html": [
       "<div>\n",
       "<style scoped>\n",
       "    .dataframe tbody tr th:only-of-type {\n",
       "        vertical-align: middle;\n",
       "    }\n",
       "\n",
       "    .dataframe tbody tr th {\n",
       "        vertical-align: top;\n",
       "    }\n",
       "\n",
       "    .dataframe thead th {\n",
       "        text-align: right;\n",
       "    }\n",
       "</style>\n",
       "<table border=\"1\" class=\"dataframe\">\n",
       "  <thead>\n",
       "    <tr style=\"text-align: right;\">\n",
       "      <th></th>\n",
       "      <th>userID</th>\n",
       "      <th>ISBN</th>\n",
       "      <th>bookRating</th>\n",
       "      <th>bookTitle</th>\n",
       "    </tr>\n",
       "  </thead>\n",
       "  <tbody>\n",
       "    <tr>\n",
       "      <th>0</th>\n",
       "      <td>277427</td>\n",
       "      <td>002542730X</td>\n",
       "      <td>10</td>\n",
       "      <td>Politically Correct Bedtime Stories: Modern Ta...</td>\n",
       "    </tr>\n",
       "    <tr>\n",
       "      <th>1</th>\n",
       "      <td>3363</td>\n",
       "      <td>002542730X</td>\n",
       "      <td>0</td>\n",
       "      <td>Politically Correct Bedtime Stories: Modern Ta...</td>\n",
       "    </tr>\n",
       "    <tr>\n",
       "      <th>2</th>\n",
       "      <td>11676</td>\n",
       "      <td>002542730X</td>\n",
       "      <td>6</td>\n",
       "      <td>Politically Correct Bedtime Stories: Modern Ta...</td>\n",
       "    </tr>\n",
       "    <tr>\n",
       "      <th>3</th>\n",
       "      <td>12538</td>\n",
       "      <td>002542730X</td>\n",
       "      <td>10</td>\n",
       "      <td>Politically Correct Bedtime Stories: Modern Ta...</td>\n",
       "    </tr>\n",
       "    <tr>\n",
       "      <th>4</th>\n",
       "      <td>13552</td>\n",
       "      <td>002542730X</td>\n",
       "      <td>0</td>\n",
       "      <td>Politically Correct Bedtime Stories: Modern Ta...</td>\n",
       "    </tr>\n",
       "  </tbody>\n",
       "</table>\n",
       "</div>"
      ],
      "text/plain": [
       "   userID        ISBN  bookRating  \\\n",
       "0  277427  002542730X          10   \n",
       "1    3363  002542730X           0   \n",
       "2   11676  002542730X           6   \n",
       "3   12538  002542730X          10   \n",
       "4   13552  002542730X           0   \n",
       "\n",
       "                                           bookTitle  \n",
       "0  Politically Correct Bedtime Stories: Modern Ta...  \n",
       "1  Politically Correct Bedtime Stories: Modern Ta...  \n",
       "2  Politically Correct Bedtime Stories: Modern Ta...  \n",
       "3  Politically Correct Bedtime Stories: Modern Ta...  \n",
       "4  Politically Correct Bedtime Stories: Modern Ta...  "
      ]
     },
     "execution_count": 8,
     "metadata": {},
     "output_type": "execute_result"
    }
   ],
   "source": [
    "# Merge 2 tables\n",
    "combine_book_rating = pd.merge(ratings, books, on='ISBN')\n",
    "\n",
    "# Remove unwanted columns\n",
    "columns = ['yearOfPublication', 'publisher', 'bookAuthor', 'imageUrlS', 'imageUrlM', 'imageUrlL']\n",
    "\n",
    "#Removing raws having null values\n",
    "combine_book_rating = combine_book_rating.drop(columns, axis=1)\n",
    "combine_book_rating.head()"
   ]
  },
  {
   "cell_type": "markdown",
   "id": "e1e95159",
   "metadata": {},
   "source": [
    "We then group by book titles and create a new column for total rating count.\n",
    "\n"
   ]
  },
  {
   "cell_type": "code",
   "execution_count": 9,
   "id": "b85fae37",
   "metadata": {},
   "outputs": [
    {
     "data": {
      "text/html": [
       "<div>\n",
       "<style scoped>\n",
       "    .dataframe tbody tr th:only-of-type {\n",
       "        vertical-align: middle;\n",
       "    }\n",
       "\n",
       "    .dataframe tbody tr th {\n",
       "        vertical-align: top;\n",
       "    }\n",
       "\n",
       "    .dataframe thead th {\n",
       "        text-align: right;\n",
       "    }\n",
       "</style>\n",
       "<table border=\"1\" class=\"dataframe\">\n",
       "  <thead>\n",
       "    <tr style=\"text-align: right;\">\n",
       "      <th></th>\n",
       "      <th>bookTitle</th>\n",
       "      <th>totalRatingCount</th>\n",
       "    </tr>\n",
       "  </thead>\n",
       "  <tbody>\n",
       "    <tr>\n",
       "      <th>0</th>\n",
       "      <td>A Light in the Storm: The Civil War Diary of ...</td>\n",
       "      <td>1</td>\n",
       "    </tr>\n",
       "    <tr>\n",
       "      <th>1</th>\n",
       "      <td>Beyond IBM: Leadership Marketing and Finance ...</td>\n",
       "      <td>1</td>\n",
       "    </tr>\n",
       "    <tr>\n",
       "      <th>2</th>\n",
       "      <td>Earth Prayers From around the World: 365 Pray...</td>\n",
       "      <td>1</td>\n",
       "    </tr>\n",
       "    <tr>\n",
       "      <th>3</th>\n",
       "      <td>Final Fantasy Anthology: Official Strategy Gu...</td>\n",
       "      <td>2</td>\n",
       "    </tr>\n",
       "    <tr>\n",
       "      <th>4</th>\n",
       "      <td>It Takes Two</td>\n",
       "      <td>1</td>\n",
       "    </tr>\n",
       "  </tbody>\n",
       "</table>\n",
       "</div>"
      ],
      "text/plain": [
       "                                           bookTitle  totalRatingCount\n",
       "0   A Light in the Storm: The Civil War Diary of ...                 1\n",
       "1   Beyond IBM: Leadership Marketing and Finance ...                 1\n",
       "2   Earth Prayers From around the World: 365 Pray...                 1\n",
       "3   Final Fantasy Anthology: Official Strategy Gu...                 2\n",
       "4                                       It Takes Two                 1"
      ]
     },
     "execution_count": 9,
     "metadata": {},
     "output_type": "execute_result"
    }
   ],
   "source": [
    "combine_book_rating = combine_book_rating.dropna(axis = 0, subset = ['bookTitle'])\n",
    "\n",
    "book_ratingCount = (combine_book_rating.\n",
    "     groupby(by = ['bookTitle'])['bookRating'].\n",
    "     count().\n",
    "     reset_index().\n",
    "     rename(columns = {'bookRating': 'totalRatingCount'})\n",
    "     [['bookTitle', 'totalRatingCount']]\n",
    "    )\n",
    "book_ratingCount.head()"
   ]
  },
  {
   "cell_type": "markdown",
   "id": "5bf21162",
   "metadata": {},
   "source": [
    "Combining the rating data with the total rating count data.\n",
    "This gives exactly what we need to find out which books are popular and filter out lesser-known books."
   ]
  },
  {
   "cell_type": "code",
   "execution_count": 10,
   "id": "40ad268d",
   "metadata": {},
   "outputs": [
    {
     "data": {
      "text/html": [
       "<div>\n",
       "<style scoped>\n",
       "    .dataframe tbody tr th:only-of-type {\n",
       "        vertical-align: middle;\n",
       "    }\n",
       "\n",
       "    .dataframe tbody tr th {\n",
       "        vertical-align: top;\n",
       "    }\n",
       "\n",
       "    .dataframe thead th {\n",
       "        text-align: right;\n",
       "    }\n",
       "</style>\n",
       "<table border=\"1\" class=\"dataframe\">\n",
       "  <thead>\n",
       "    <tr style=\"text-align: right;\">\n",
       "      <th></th>\n",
       "      <th>userID</th>\n",
       "      <th>ISBN</th>\n",
       "      <th>bookRating</th>\n",
       "      <th>bookTitle</th>\n",
       "      <th>totalRatingCount</th>\n",
       "    </tr>\n",
       "  </thead>\n",
       "  <tbody>\n",
       "    <tr>\n",
       "      <th>0</th>\n",
       "      <td>277427</td>\n",
       "      <td>002542730X</td>\n",
       "      <td>10</td>\n",
       "      <td>Politically Correct Bedtime Stories: Modern Ta...</td>\n",
       "      <td>13</td>\n",
       "    </tr>\n",
       "    <tr>\n",
       "      <th>1</th>\n",
       "      <td>3363</td>\n",
       "      <td>002542730X</td>\n",
       "      <td>0</td>\n",
       "      <td>Politically Correct Bedtime Stories: Modern Ta...</td>\n",
       "      <td>13</td>\n",
       "    </tr>\n",
       "    <tr>\n",
       "      <th>2</th>\n",
       "      <td>11676</td>\n",
       "      <td>002542730X</td>\n",
       "      <td>6</td>\n",
       "      <td>Politically Correct Bedtime Stories: Modern Ta...</td>\n",
       "      <td>13</td>\n",
       "    </tr>\n",
       "    <tr>\n",
       "      <th>3</th>\n",
       "      <td>12538</td>\n",
       "      <td>002542730X</td>\n",
       "      <td>10</td>\n",
       "      <td>Politically Correct Bedtime Stories: Modern Ta...</td>\n",
       "      <td>13</td>\n",
       "    </tr>\n",
       "    <tr>\n",
       "      <th>4</th>\n",
       "      <td>13552</td>\n",
       "      <td>002542730X</td>\n",
       "      <td>0</td>\n",
       "      <td>Politically Correct Bedtime Stories: Modern Ta...</td>\n",
       "      <td>13</td>\n",
       "    </tr>\n",
       "  </tbody>\n",
       "</table>\n",
       "</div>"
      ],
      "text/plain": [
       "   userID        ISBN  bookRating  \\\n",
       "0  277427  002542730X          10   \n",
       "1    3363  002542730X           0   \n",
       "2   11676  002542730X           6   \n",
       "3   12538  002542730X          10   \n",
       "4   13552  002542730X           0   \n",
       "\n",
       "                                           bookTitle  totalRatingCount  \n",
       "0  Politically Correct Bedtime Stories: Modern Ta...                13  \n",
       "1  Politically Correct Bedtime Stories: Modern Ta...                13  \n",
       "2  Politically Correct Bedtime Stories: Modern Ta...                13  \n",
       "3  Politically Correct Bedtime Stories: Modern Ta...                13  \n",
       "4  Politically Correct Bedtime Stories: Modern Ta...                13  "
      ]
     },
     "execution_count": 10,
     "metadata": {},
     "output_type": "execute_result"
    }
   ],
   "source": [
    "rating_with_totalRatingCount = combine_book_rating.merge(book_ratingCount, left_on = 'bookTitle', right_on = 'bookTitle', how = 'left')\n",
    "rating_with_totalRatingCount.head()"
   ]
  },
  {
   "cell_type": "code",
   "execution_count": 11,
   "id": "f0247561",
   "metadata": {},
   "outputs": [
    {
     "name": "stdout",
     "output_type": "stream",
     "text": [
      "count    32279.000000\n",
      "mean         1.862790\n",
      "std          2.298886\n",
      "min          1.000000\n",
      "25%          1.000000\n",
      "50%          1.000000\n",
      "75%          2.000000\n",
      "max         47.000000\n",
      "Name: totalRatingCount, dtype: float64\n"
     ]
    }
   ],
   "source": [
    "print(book_ratingCount['totalRatingCount'].describe())"
   ]
  },
  {
   "cell_type": "code",
   "execution_count": 12,
   "id": "38d5408c",
   "metadata": {},
   "outputs": [
    {
     "name": "stdout",
     "output_type": "stream",
     "text": [
      "0.90     3.0\n",
      "0.91     4.0\n",
      "0.92     4.0\n",
      "0.93     4.0\n",
      "0.94     5.0\n",
      "0.95     5.0\n",
      "0.96     6.0\n",
      "0.97     7.0\n",
      "0.98     9.0\n",
      "0.99    12.0\n",
      "Name: totalRatingCount, dtype: float64\n"
     ]
    }
   ],
   "source": [
    "# Top of the distribution\n",
    "print(book_ratingCount['totalRatingCount'].quantile(np.arange(.9, 1, .01)))"
   ]
  },
  {
   "cell_type": "code",
   "execution_count": 14,
   "id": "42a6c4cd",
   "metadata": {},
   "outputs": [
    {
     "data": {
      "text/html": [
       "<div>\n",
       "<style scoped>\n",
       "    .dataframe tbody tr th:only-of-type {\n",
       "        vertical-align: middle;\n",
       "    }\n",
       "\n",
       "    .dataframe tbody tr th {\n",
       "        vertical-align: top;\n",
       "    }\n",
       "\n",
       "    .dataframe thead th {\n",
       "        text-align: right;\n",
       "    }\n",
       "</style>\n",
       "<table border=\"1\" class=\"dataframe\">\n",
       "  <thead>\n",
       "    <tr style=\"text-align: right;\">\n",
       "      <th></th>\n",
       "      <th>userID</th>\n",
       "      <th>ISBN</th>\n",
       "      <th>bookRating</th>\n",
       "      <th>bookTitle</th>\n",
       "      <th>totalRatingCount</th>\n",
       "    </tr>\n",
       "  </thead>\n",
       "  <tbody>\n",
       "    <tr>\n",
       "      <th>152</th>\n",
       "      <td>277427</td>\n",
       "      <td>0142001740</td>\n",
       "      <td>0</td>\n",
       "      <td>The Secret Life of Bees</td>\n",
       "      <td>42</td>\n",
       "    </tr>\n",
       "    <tr>\n",
       "      <th>153</th>\n",
       "      <td>254</td>\n",
       "      <td>0142001740</td>\n",
       "      <td>9</td>\n",
       "      <td>The Secret Life of Bees</td>\n",
       "      <td>42</td>\n",
       "    </tr>\n",
       "    <tr>\n",
       "      <th>154</th>\n",
       "      <td>2766</td>\n",
       "      <td>0142001740</td>\n",
       "      <td>0</td>\n",
       "      <td>The Secret Life of Bees</td>\n",
       "      <td>42</td>\n",
       "    </tr>\n",
       "    <tr>\n",
       "      <th>155</th>\n",
       "      <td>4017</td>\n",
       "      <td>0142001740</td>\n",
       "      <td>0</td>\n",
       "      <td>The Secret Life of Bees</td>\n",
       "      <td>42</td>\n",
       "    </tr>\n",
       "    <tr>\n",
       "      <th>156</th>\n",
       "      <td>6543</td>\n",
       "      <td>0142001740</td>\n",
       "      <td>9</td>\n",
       "      <td>The Secret Life of Bees</td>\n",
       "      <td>42</td>\n",
       "    </tr>\n",
       "  </tbody>\n",
       "</table>\n",
       "</div>"
      ],
      "text/plain": [
       "     userID        ISBN  bookRating                bookTitle  totalRatingCount\n",
       "152  277427  0142001740           0  The Secret Life of Bees                42\n",
       "153     254  0142001740           9  The Secret Life of Bees                42\n",
       "154    2766  0142001740           0  The Secret Life of Bees                42\n",
       "155    4017  0142001740           0  The Secret Life of Bees                42\n",
       "156    6543  0142001740           9  The Secret Life of Bees                42"
      ]
     },
     "execution_count": 14,
     "metadata": {},
     "output_type": "execute_result"
    }
   ],
   "source": [
    "# Define a threshold value\n",
    "popularity_threshold = 30\n",
    "rating_popular_book = rating_with_totalRatingCount.query('totalRatingCount >= @popularity_threshold')\n",
    "rating_popular_book.head()"
   ]
  },
  {
   "cell_type": "code",
   "execution_count": 15,
   "id": "8f7c83f8",
   "metadata": {},
   "outputs": [
    {
     "data": {
      "text/plain": [
       "(738, 5)"
      ]
     },
     "execution_count": 15,
     "metadata": {},
     "output_type": "execute_result"
    }
   ],
   "source": [
    "rating_popular_book.shape\n"
   ]
  },
  {
   "cell_type": "code",
   "execution_count": 16,
   "id": "99aa00b8",
   "metadata": {},
   "outputs": [
    {
     "data": {
      "text/html": [
       "<div>\n",
       "<style scoped>\n",
       "    .dataframe tbody tr th:only-of-type {\n",
       "        vertical-align: middle;\n",
       "    }\n",
       "\n",
       "    .dataframe tbody tr th {\n",
       "        vertical-align: top;\n",
       "    }\n",
       "\n",
       "    .dataframe thead th {\n",
       "        text-align: right;\n",
       "    }\n",
       "</style>\n",
       "<table border=\"1\" class=\"dataframe\">\n",
       "  <thead>\n",
       "    <tr style=\"text-align: right;\">\n",
       "      <th></th>\n",
       "      <th>userID</th>\n",
       "      <th>ISBN</th>\n",
       "      <th>bookRating</th>\n",
       "      <th>bookTitle</th>\n",
       "      <th>totalRatingCount</th>\n",
       "      <th>Location</th>\n",
       "    </tr>\n",
       "  </thead>\n",
       "  <tbody>\n",
       "    <tr>\n",
       "      <th>0</th>\n",
       "      <td>277427</td>\n",
       "      <td>0142001740</td>\n",
       "      <td>0</td>\n",
       "      <td>The Secret Life of Bees</td>\n",
       "      <td>42</td>\n",
       "      <td>gilbert, arizona, usa</td>\n",
       "    </tr>\n",
       "    <tr>\n",
       "      <th>1</th>\n",
       "      <td>254</td>\n",
       "      <td>0142001740</td>\n",
       "      <td>9</td>\n",
       "      <td>The Secret Life of Bees</td>\n",
       "      <td>42</td>\n",
       "      <td>minneapolis, minnesota, usa</td>\n",
       "    </tr>\n",
       "    <tr>\n",
       "      <th>2</th>\n",
       "      <td>2766</td>\n",
       "      <td>0142001740</td>\n",
       "      <td>0</td>\n",
       "      <td>The Secret Life of Bees</td>\n",
       "      <td>42</td>\n",
       "      <td>frisco, texas, usa</td>\n",
       "    </tr>\n",
       "    <tr>\n",
       "      <th>3</th>\n",
       "      <td>4017</td>\n",
       "      <td>0142001740</td>\n",
       "      <td>0</td>\n",
       "      <td>The Secret Life of Bees</td>\n",
       "      <td>42</td>\n",
       "      <td>new orleans, louisiana, usa</td>\n",
       "    </tr>\n",
       "    <tr>\n",
       "      <th>4</th>\n",
       "      <td>6543</td>\n",
       "      <td>0142001740</td>\n",
       "      <td>9</td>\n",
       "      <td>The Secret Life of Bees</td>\n",
       "      <td>42</td>\n",
       "      <td>strafford, missouri, usa</td>\n",
       "    </tr>\n",
       "  </tbody>\n",
       "</table>\n",
       "</div>"
      ],
      "text/plain": [
       "   userID        ISBN  bookRating                bookTitle  totalRatingCount  \\\n",
       "0  277427  0142001740           0  The Secret Life of Bees                42   \n",
       "1     254  0142001740           9  The Secret Life of Bees                42   \n",
       "2    2766  0142001740           0  The Secret Life of Bees                42   \n",
       "3    4017  0142001740           0  The Secret Life of Bees                42   \n",
       "4    6543  0142001740           9  The Secret Life of Bees                42   \n",
       "\n",
       "                      Location  \n",
       "0        gilbert, arizona, usa  \n",
       "1  minneapolis, minnesota, usa  \n",
       "2           frisco, texas, usa  \n",
       "3  new orleans, louisiana, usa  \n",
       "4     strafford, missouri, usa  "
      ]
     },
     "execution_count": 16,
     "metadata": {},
     "output_type": "execute_result"
    }
   ],
   "source": [
    "# Filter to users in US and Canada only because the knn calculations are time and resource expensive\n",
    "combined = rating_popular_book.merge(users, left_on = 'userID', right_on = 'userID', how = 'left')\n",
    "\n",
    "us_canada_user_rating = combined[combined['Location'].str.contains(\"usa|canada\")]\n",
    "us_canada_user_rating=us_canada_user_rating.drop('Age', axis=1)\n",
    "us_canada_user_rating.head()"
   ]
  },
  {
   "cell_type": "markdown",
   "id": "14098f50",
   "metadata": {},
   "source": [
    "## Implementing kNN\n"
   ]
  },
  {
   "cell_type": "code",
   "execution_count": 17,
   "id": "25edfba8",
   "metadata": {},
   "outputs": [
    {
     "data": {
      "text/plain": [
       "NearestNeighbors(algorithm='brute', metric='cosine')"
      ]
     },
     "execution_count": 17,
     "metadata": {},
     "output_type": "execute_result"
    }
   ],
   "source": [
    "from scipy.sparse import csr_matrix\n",
    "# Drop duplicate raws\n",
    "us_canada_user_rating = us_canada_user_rating.drop_duplicates(['userID', 'bookTitle'])\n",
    "# Creating the pivot table\n",
    "us_canada_user_rating_pivot = us_canada_user_rating.pivot(index = 'bookTitle', columns = 'userID', values = 'bookRating').fillna(0)\n",
    "# Converting the pivot table into a matrix\n",
    "us_canada_user_rating_matrix = csr_matrix(us_canada_user_rating_pivot.values)\n",
    "\n",
    "from sklearn.neighbors import NearestNeighbors\n",
    "\n",
    "\n",
    "model_knn = NearestNeighbors(metric = 'cosine', algorithm = 'brute')\n",
    "model_knn.fit(us_canada_user_rating_matrix)"
   ]
  },
  {
   "cell_type": "code",
   "execution_count": 19,
   "id": "9ce081af",
   "metadata": {},
   "outputs": [
    {
     "name": "stdout",
     "output_type": "stream",
     "text": [
      "10\n"
     ]
    }
   ],
   "source": [
    "# Randomly select a book\n",
    "query_index = np.random.choice(us_canada_user_rating_pivot.shape[0])\n",
    "print(query_index)"
   ]
  },
  {
   "cell_type": "code",
   "execution_count": 20,
   "id": "5cc92e52",
   "metadata": {},
   "outputs": [],
   "source": [
    "#Applying model\n",
    "distances, indices = model_knn.kneighbors(us_canada_user_rating_pivot.iloc[query_index,:].values.reshape(1, -1), n_neighbors = 6)\n"
   ]
  },
  {
   "cell_type": "code",
   "execution_count": 21,
   "id": "4a2754aa",
   "metadata": {},
   "outputs": [
    {
     "data": {
      "text/plain": [
       "'The Firm'"
      ]
     },
     "execution_count": 21,
     "metadata": {},
     "output_type": "execute_result"
    }
   ],
   "source": [
    "us_canada_user_rating_pivot.index[query_index] # Name of the selected book"
   ]
  },
  {
   "cell_type": "code",
   "execution_count": 22,
   "id": "0ec64918",
   "metadata": {},
   "outputs": [
    {
     "name": "stdout",
     "output_type": "stream",
     "text": [
      "Recommendations for The Firm:\n",
      "\n",
      "1: The Pelican Brief, with distance of 0.647125790013966:\n",
      "2: A Painted House, with distance of 0.6656245255706555:\n",
      "3: Message in a Bottle, with distance of 0.7669027984964126:\n",
      "4: The Lovely Bones: A Novel, with distance of 0.7755194474402153:\n",
      "5: The Chamber, with distance of 0.7823168498584281:\n"
     ]
    }
   ],
   "source": [
    "for i in range(0, len(distances.flatten())):\n",
    "    if i == 0:\n",
    "        print('Recommendations for {0}:\\n'.format(us_canada_user_rating_pivot.index[query_index]))\n",
    "    else:\n",
    "        print('{0}: {1}, with distance of {2}:'.format(i, us_canada_user_rating_pivot.index[indices.flatten()[i]], distances.flatten()[i]))\n"
   ]
  },
  {
   "cell_type": "code",
   "execution_count": null,
   "id": "0bdc4be1",
   "metadata": {},
   "outputs": [],
   "source": []
  }
 ],
 "metadata": {
  "kernelspec": {
   "display_name": "Python 3",
   "language": "python",
   "name": "python3"
  },
  "language_info": {
   "codemirror_mode": {
    "name": "ipython",
    "version": 3
   },
   "file_extension": ".py",
   "mimetype": "text/x-python",
   "name": "python",
   "nbconvert_exporter": "python",
   "pygments_lexer": "ipython3",
   "version": "3.6.8"
  }
 },
 "nbformat": 4,
 "nbformat_minor": 5
}
